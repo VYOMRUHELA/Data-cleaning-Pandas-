{
 "cells": [
  {
   "cell_type": "code",
   "execution_count": 1,
   "id": "7b8f0caf-24a1-42ef-93e8-52e92b9b4dbd",
   "metadata": {},
   "outputs": [],
   "source": [
    "import pandas as pd\n"
   ]
  },
  {
   "cell_type": "code",
   "execution_count": 2,
   "id": "84af0e69-588b-419b-87d0-6e0f91f9d660",
   "metadata": {},
   "outputs": [
    {
     "name": "stdout",
     "output_type": "stream",
     "text": [
      "          Sales Person    Country              Product       Date  Amount  \\\n",
      "0       Jehu Rudeforth         UK      Mint Chip Choco 2022-01-04    5320   \n",
      "1          Van Tuxwell      India        85% Dark Bars 2022-08-01    7896   \n",
      "2         Gigi Bohling      India  Peanut Butter Cubes 2022-07-07    4501   \n",
      "3         Jan Morforth  Australia  Peanut Butter Cubes 2022-04-27   12726   \n",
      "4       Jehu Rudeforth         UK  Peanut Butter Cubes 2022-02-24   13685   \n",
      "...                ...        ...                  ...        ...     ...   \n",
      "1089  Karlen McCaffrey  Australia  Spicy Special Slims 2022-05-17    4410   \n",
      "1090    Jehu Rudeforth        USA           White Choc 2022-06-07    6559   \n",
      "1091      Ches Bonnell     Canada  Organic Choco Syrup 2022-07-26     574   \n",
      "1092    Dotty Strutley      India              Eclairs 2022-07-28    2086   \n",
      "1093  Karlen McCaffrey      India       70% Dark Bites 2022-05-23    5075   \n",
      "\n",
      "      Boxes Shipped  \n",
      "0               180  \n",
      "1                94  \n",
      "2                91  \n",
      "3               342  \n",
      "4               184  \n",
      "...             ...  \n",
      "1089            323  \n",
      "1090            119  \n",
      "1091            217  \n",
      "1092            384  \n",
      "1093            344  \n",
      "\n",
      "[1094 rows x 6 columns]\n"
     ]
    }
   ],
   "source": [
    "import pandas as pd\n",
    "df = pd.read_excel(\"sample-data-10mins.xlsx\")\n",
    "print(df)\n",
    "\n"
   ]
  },
  {
   "cell_type": "code",
   "execution_count": null,
   "id": "f0561369-de09-4756-b3cf-bb3df8cc2686",
   "metadata": {},
   "outputs": [],
   "source": []
  }
 ],
 "metadata": {
  "kernelspec": {
   "display_name": "Python 3 (ipykernel)",
   "language": "python",
   "name": "python3"
  },
  "language_info": {
   "codemirror_mode": {
    "name": "ipython",
    "version": 3
   },
   "file_extension": ".py",
   "mimetype": "text/x-python",
   "name": "python",
   "nbconvert_exporter": "python",
   "pygments_lexer": "ipython3",
   "version": "3.12.4"
  }
 },
 "nbformat": 4,
 "nbformat_minor": 5
}
